{
 "cells": [
  {
   "cell_type": "code",
   "execution_count": 1,
   "metadata": {},
   "outputs": [
    {
     "name": "stdout",
     "output_type": "stream",
     "text": [
      "True\n",
      "True\n",
      "True\n"
     ]
    }
   ],
   "source": [
    "\"\"\"\n",
    "Problem 1.1\n",
    "Implement an Algorithm to determine if a string has all unique characters. \n",
    "What if you cannot use additional data structures?\n",
    "\n",
    "Edge Cases:\n",
    "word -> True\n",
    "cool -> False\n",
    "coOl -> True; In this algorithm we allow capitalized letters in a string to be considered unique.\n",
    "\n",
    "1) Brute force solution: Would have contain nested loops ==> O(n^2) runtime complexity.\n",
    "2) Other solution: Sort the string O(nlgn), walk through the string O(n): ==> O(nlgn)\n",
    "3) Use Set/Hashmap/Dictionary: O(n), O(c) space complexity.\n",
    "4) Boolean Array: O(n)\n",
    "\"\"\"\n",
    "\n",
    "\n",
    "def isUnique(string):\n",
    "    if len(string) > 128:\n",
    "        return False         # Because we consider ASCII we know there must be a duplicate if len(str) > 128.\n",
    "    arr = [False] * 128\n",
    "    for char in string:\n",
    "        index = ord(char)    # ASCII Value for the character.\n",
    "        if arr[index]:\n",
    "            return False\n",
    "        arr[index] = True\n",
    "        \n",
    "    return True\n",
    "\n",
    "print(isUnique(\"word\") == True)\n",
    "print(isUnique(\"cool\") == False)\n",
    "print(isUnique(\"cOol\") == True)"
   ]
  },
  {
   "cell_type": "code",
   "execution_count": 2,
   "metadata": {},
   "outputs": [
    {
     "name": "stderr",
     "output_type": "stream",
     "text": [
      "E\n",
      "======================================================================\n",
      "ERROR: /Users/cdlima/Library/Jupyter/runtime/kernel-2b21caea-0fea-4bad-8390-828eef7c0dd7 (unittest.loader._FailedTest)\n",
      "----------------------------------------------------------------------\n",
      "AttributeError: module '__main__' has no attribute '/Users/cdlima/Library/Jupyter/runtime/kernel-2b21caea-0fea-4bad-8390-828eef7c0dd7'\n",
      "\n",
      "----------------------------------------------------------------------\n",
      "Ran 1 test in 0.001s\n",
      "\n",
      "FAILED (errors=1)\n"
     ]
    },
    {
     "ename": "SystemExit",
     "evalue": "True",
     "output_type": "error",
     "traceback": [
      "An exception has occurred, use %tb to see the full traceback.\n",
      "\u001b[0;31mSystemExit\u001b[0m\u001b[0;31m:\u001b[0m True\n"
     ]
    },
    {
     "name": "stderr",
     "output_type": "stream",
     "text": [
      "/anaconda3/lib/python3.7/site-packages/IPython/core/interactiveshell.py:2969: UserWarning: To exit: use 'exit', 'quit', or Ctrl-D.\n",
      "  warn(\"To exit: use 'exit', 'quit', or Ctrl-D.\", stacklevel=1)\n"
     ]
    }
   ],
   "source": [
    "# Check Permutation #\n",
    "\"\"\"\n",
    "Problem 1.2\n",
    "Given two strings, write a method to decide if one is a permutation of the other.\n",
    "Def_n of two strings that are permutations of each other:\n",
    "        Provided we have two strings of equal length, if a both strings contain the same characters that occur\n",
    "        the same number of times but in different order, then the two strings are permutations of each other.\n",
    "\"\"\"\n",
    "import unittest\n",
    "from collections import Counter\n",
    "\n",
    "\n",
    "def checkPermutation(str1, str2):\n",
    "    str1 = str1.lower()\n",
    "    str2 = str2.lower()\n",
    "    if len(str1) != len(str2):\n",
    "        return False\n",
    "    counter = Counter()\n",
    "    for c in str1:\n",
    "        counter[c] += 1\n",
    "    for c in str2:\n",
    "        if counter[c] == 0:\n",
    "            return False\n",
    "        counter[c] -= 1\n",
    "    return True\n",
    "\n",
    "class Test(unittest.TestCase):\n",
    "    dataT = (\n",
    "        ('abcd', 'bacd'),\n",
    "        ('3563476', '7334566'),\n",
    "        ('wef34f', 'wffe34'),\n",
    "    )\n",
    "    dataF = (\n",
    "        ('abcd', 'd2cba'),\n",
    "        ('2354', '1234'),\n",
    "        ('dcw4f', 'dcw5f'),\n",
    "    )\n",
    "\n",
    "    def test_cp(self):\n",
    "        # true check\n",
    "        for test_strings in self.dataT:\n",
    "            result = checkPermutation(*test_strings)\n",
    "            self.assertTrue(result)\n",
    "        # false check\n",
    "        for test_strings in self.dataF:\n",
    "            result = checkPermutation(*test_strings)\n",
    "            self.assertFalse(result)\n",
    "\n",
    "\n",
    "if __name__ == \"__main__\":\n",
    "    unittest.main()"
   ]
  },
  {
   "cell_type": "code",
   "execution_count": 3,
   "metadata": {},
   "outputs": [
    {
     "data": {
      "text/plain": [
       "True"
      ]
     },
     "execution_count": 3,
     "metadata": {},
     "output_type": "execute_result"
    }
   ],
   "source": [
    "str1 = \"Hello World!\"\n",
    "str2 = \"ohell lordw!\"\n",
    "checkPermutation(str1, str2)"
   ]
  },
  {
   "cell_type": "code",
   "execution_count": null,
   "metadata": {},
   "outputs": [],
   "source": []
  }
 ],
 "metadata": {
  "kernelspec": {
   "display_name": "Python 3",
   "language": "python",
   "name": "python3"
  },
  "language_info": {
   "codemirror_mode": {
    "name": "ipython",
    "version": 3
   },
   "file_extension": ".py",
   "mimetype": "text/x-python",
   "name": "python",
   "nbconvert_exporter": "python",
   "pygments_lexer": "ipython3",
   "version": "3.7.2"
  }
 },
 "nbformat": 4,
 "nbformat_minor": 2
}
